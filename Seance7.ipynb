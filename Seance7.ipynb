{
  "nbformat": 4,
  "nbformat_minor": 0,
  "metadata": {
    "kernelspec": {
      "display_name": "Python 3",
      "language": "python",
      "name": "python3"
    },
    "language_info": {
      "codemirror_mode": {
        "name": "ipython",
        "version": 3
      },
      "file_extension": ".py",
      "mimetype": "text/x-python",
      "name": "python",
      "nbconvert_exporter": "python",
      "pygments_lexer": "ipython3",
      "version": "3.7.6"
    },
    "colab": {
      "name": "Seance7.ipynb",
      "provenance": [],
      "collapsed_sections": []
    }
  },
  "cells": [
    {
      "cell_type": "markdown",
      "metadata": {
        "id": "hNTezJGPJqrv"
      },
      "source": [
        "En utilisant numpy:"
      ]
    },
    {
      "cell_type": "markdown",
      "metadata": {
        "id": "Hbc4qZCBJqrw"
      },
      "source": [
        "Ex 1 :Addition\n",
        "Écrire un programme pour lire les éléments de deux matrices et ajoutez les deux matrices dans la troisième.\n",
        "\n",
        "La somme de deux matrices de taille (m,n), $(A_{ij}) et (B_{ij}) notée $A+B$  est à nouveau une matrice (C_{ij}) de taille (m,n), obtenue en additionnant les éléments correspondants: $c_{ij}=a_{ij}+b_{ij}$\n"
      ]
    },
    {
      "cell_type": "code",
      "metadata": {
        "colab": {
          "base_uri": "https://localhost:8080/"
        },
        "id": "F7N5vFfbJqrw",
        "outputId": "5cf368a0-ef3a-4d10-c7cf-c7ab0646ecd4"
      },
      "source": [
        "import numpy as np\n",
        "\n",
        "A = np.array([[1,2,3],[4,5,6],[7,8,9]]);\n",
        "B = np.array([[1,2,3],[4,5,6],[7,8,9]]);\n",
        "if(np.shape(A)[0]==np.shape(B)[0] and np.shape(A)[1]==np.shape(B)[1]):\n",
        "  C = A + B;\n",
        "  print(\"A = \" , A);  \n",
        "  print(\"B = \" , B);\n",
        "  print(\"C = \" , C);\n",
        "else:\n",
        "  print(\"Taille des matrices différentes, on ne peut pas les additionnées.\")\n",
        "\n"
      ],
      "execution_count": 8,
      "outputs": [
        {
          "output_type": "stream",
          "text": [
            "Taille des matrices différentes, on ne peut pas les additionnés?\n"
          ],
          "name": "stdout"
        }
      ]
    },
    {
      "cell_type": "markdown",
      "metadata": {
        "id": "7Fk0f-3qJqrw"
      },
      "source": [
        "Ex2 :Multiplication\n",
        "Écrire un programme pour lire les éléments de deux matrices, puis multipliez les deux matrices dans la troisième.\n",
        "\n",
        "Deux matrices ne peuvent être multipliées que si le nombre de colonnes de la première matrice est le même que le nombre de lignes de la seconde matrice.\n",
        "\n",
        "Si $ A=(a_{ij})$ est une matrice de taille (m,n), $ B=(b_{ij})$ et est une matrice de taille (n,p), alors leur produit, noté $AB=(c_{ij})$ est une matrice de taille (m,p) définie par :\n",
        "$$\\forall i,j : c_{ij}=\\sum_{k=i}^{n} a_{ik}*b_{kj}$$"
      ]
    },
    {
      "cell_type": "code",
      "metadata": {
        "colab": {
          "base_uri": "https://localhost:8080/"
        },
        "id": "FZdh_q47Jqrw",
        "outputId": "a1fa86b9-4525-43c4-f5c1-35346697c3e4"
      },
      "source": [
        "import numpy as np\n",
        "\n",
        "A = np.array([[1,2,3],[4,5,6],[7,8,9]]);\n",
        "B = np.array([[1,2,3],[4,5,6],[7,8,9]]);\n",
        "\n",
        "\n",
        "if(np.shape(A)[1]==np.shape(B)[0]):\n",
        "  C = A.dot(B);\n",
        "  print(\"A = \" , A);  \n",
        "  print(\"B = \" , B);\n",
        "  print(\"C = \" , C);\n",
        "else:\n",
        "  print(\"Taille des matrices différentes, on ne peut pas les multipliées\")"
      ],
      "execution_count": 11,
      "outputs": [
        {
          "output_type": "stream",
          "text": [
            "A =  [[1 2 3]\n",
            " [4 5 6]\n",
            " [7 8 9]]\n",
            "B =  [[1 2 3]\n",
            " [4 5 6]\n",
            " [7 8 9]]\n",
            "C =  [[ 30  36  42]\n",
            " [ 66  81  96]\n",
            " [102 126 150]]\n"
          ],
          "name": "stdout"
        }
      ]
    },
    {
      "cell_type": "markdown",
      "metadata": {
        "id": "njakhF0bJqrw"
      },
      "source": [
        "Ex 3: Matrice de Markov\n",
        "\n",
        "Une matrice de Markov est une matrice carrée dont chaque élément est un réel compris entre 0 et 1 et dont la somme des éléments de chaque ligne vaut 1. Cela correspond, en probabilité, à la matrice de transition d'une chaîne de Markov finie.\n",
        "\n",
        "Une matrice est dite bistochastique (ou doublement stochastique) si la somme des éléments de chaque ligne et de chaque colonne vaut 1.\n",
        "\n",
        "1. Ecrire une fonction eststochastique(P) qui permet de vérifier est ce que la matrice P est stochastique ou non\n",
        "2. Ecrire une fonction estbistochastique(P) qui permet de vérifier est ce que la matrice P est bistochastique ou non\n",
        "3. Ecrire une fonction vecteurstable(G, h) qui permet de vérifier est ce que h est un vecteur stable de G ou non\n",
        "\n"
      ]
    },
    {
      "cell_type": "code",
      "metadata": {
        "colab": {
          "base_uri": "https://localhost:8080/"
        },
        "id": "liccI7I3Jqrw",
        "outputId": "906c3683-2819-407a-fbde-a9ff85f14099"
      },
      "source": [
        "import numpy as np\n",
        "\n",
        "def stochastique(P):\n",
        "  for i in range(np.shape(P)[0]):\n",
        "    if np.sum(P,axis=1)[i]!=1:\n",
        "      return False\n",
        "  return True\n",
        " \n",
        "    \n",
        "def bistochastique(P):\n",
        "  if stochastique(P):\n",
        "    for i in range(np.shape(P)[1]):\n",
        "      if np.sum(P,axis=0)[i]!=1:\n",
        "        return False\n",
        "    return True\n",
        "  else:\n",
        "    return False\n",
        "\n",
        "\n",
        "P = np.array([[0.5,0.5],[0.5,0.5]]);\n",
        "bistochastique(P)"
      ],
      "execution_count": 33,
      "outputs": [
        {
          "output_type": "execute_result",
          "data": {
            "text/plain": [
              "True"
            ]
          },
          "metadata": {
            "tags": []
          },
          "execution_count": 33
        }
      ]
    },
    {
      "cell_type": "markdown",
      "metadata": {
        "id": "ebCjsccyJqrw"
      },
      "source": [
        "Ex 4: Transposer\n",
        "\n",
        "Programmer une fonction qui, étant donné une matrice à deux dimensions A, retourne lamatrice B dont la première colonne est la première ligne de A, la seconde la deuxième ligne de A, etc. B s’appelle la transposée de A."
      ]
    },
    {
      "cell_type": "code",
      "metadata": {
        "colab": {
          "base_uri": "https://localhost:8080/"
        },
        "id": "wJQC79PxJqrw",
        "outputId": "ccc8984c-fe54-4ebb-af5d-7c3a248f1fe3"
      },
      "source": [
        "## Exo 4\n",
        "\n",
        "import numpy as np\n",
        "\n",
        "A = np.array ([[1,2,3],[4,5,6],[7,8,9]]);\n",
        "\n",
        "B = A.transpose();\n",
        "\n",
        "print(\"A = \", A);\n",
        "print(\"Transposée = \", B);"
      ],
      "execution_count": 37,
      "outputs": [
        {
          "output_type": "stream",
          "text": [
            "A =  [[1 2 3]\n",
            " [4 5 6]\n",
            " [7 8 9]]\n",
            "Transposée =  [[1 4 7]\n",
            " [2 5 8]\n",
            " [3 6 9]]\n"
          ],
          "name": "stdout"
        }
      ]
    },
    {
      "cell_type": "markdown",
      "metadata": {
        "id": "xwUsXEljJqrw"
      },
      "source": [
        "Ex 5: Permutations\n",
        "1. $M$ désignant une matrice quelconque d’entiers à $l_i$ lignes et $co$ colonnes, $n$ un entier quelconque, programmer une fonction qui retourne la matrice $Sortie$ qui empile verticalement les $co+1$ matrices obtenues en adjoignant à $M$ une colonne $A$ à $li$ lignes dont tousles éléments sont égaux à $n$, $A$ étant placée d’abord devant $M$, puis entre la première et deuxième colonne de $M^a$,etc, jusqu’à ce que $A$ devienne sa dernière colonne. La matriceobtenue  aura $co+1$ colonnes et $(n+1)$ $li$ lignes\n",
        "\n",
        "2. Écrire toutes les permutations de(1, ..., n)"
      ]
    },
    {
      "cell_type": "code",
      "metadata": {
        "colab": {
          "base_uri": "https://localhost:8080/"
        },
        "id": "IGhtVqWHUR7y",
        "outputId": "8b08f5c9-6caa-4b8d-9c12-2dc7c6e7d61b"
      },
      "source": [
        "def perm(M, n):\n",
        "  l = M.shape[0]\n",
        "  c = M.shape[1] + 1\n",
        "  S = np.zeros((l*c, c))\n",
        "  indexAll = 0\n",
        "  for indexMatrice in range(c):\n",
        "    for i in range(l):\n",
        "\n",
        "      realJ = 0\n",
        "      for j in range(c):\n",
        "        if j == indexMatrice:\n",
        "          S[indexAll][j] = n\n",
        "        else:\n",
        "          S[indexAll][j] = M[i][realJ]\n",
        "          realJ+=1\n",
        "\n",
        "      indexAll += 1\n",
        "  return S\n",
        "\n",
        "A = np.array([ [1, -1], [1, 2] ])\n",
        "perm(A, 9)"
      ],
      "execution_count": 38,
      "outputs": [
        {
          "output_type": "execute_result",
          "data": {
            "text/plain": [
              "array([[ 9.,  1., -1.],\n",
              "       [ 9.,  1.,  2.],\n",
              "       [ 1.,  9., -1.],\n",
              "       [ 1.,  9.,  2.],\n",
              "       [ 1., -1.,  9.],\n",
              "       [ 1.,  2.,  9.]])"
            ]
          },
          "metadata": {
            "tags": []
          },
          "execution_count": 38
        }
      ]
    }
  ]
}